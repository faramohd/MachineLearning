{
 "cells": [
  {
   "cell_type": "code",
   "execution_count": 2,
   "id": "7c7cbd86-d4b0-4380-b0c6-43586cba5635",
   "metadata": {},
   "outputs": [],
   "source": [
    "import torch\n",
    "import numpy as np\n",
    "import pandas as pd"
   ]
  },
  {
   "cell_type": "code",
   "execution_count": 3,
   "id": "3523df68-f81b-40df-b910-0a52498df2c2",
   "metadata": {},
   "outputs": [],
   "source": [
    "df= pd.read_csv('/users/fara/ML_Repository/NeuralNetworks/PyTorch/titanic/train.csv')"
   ]
  },
  {
   "cell_type": "code",
   "execution_count": 4,
   "id": "935b5eab-7001-4ca0-b41d-2108a12cb7da",
   "metadata": {},
   "outputs": [
    {
     "data": {
      "text/html": [
       "<div>\n",
       "<style scoped>\n",
       "    .dataframe tbody tr th:only-of-type {\n",
       "        vertical-align: middle;\n",
       "    }\n",
       "\n",
       "    .dataframe tbody tr th {\n",
       "        vertical-align: top;\n",
       "    }\n",
       "\n",
       "    .dataframe thead th {\n",
       "        text-align: right;\n",
       "    }\n",
       "</style>\n",
       "<table border=\"1\" class=\"dataframe\">\n",
       "  <thead>\n",
       "    <tr style=\"text-align: right;\">\n",
       "      <th></th>\n",
       "      <th>PassengerId</th>\n",
       "      <th>Survived</th>\n",
       "      <th>Pclass</th>\n",
       "      <th>Name</th>\n",
       "      <th>Sex</th>\n",
       "      <th>Age</th>\n",
       "      <th>SibSp</th>\n",
       "      <th>Parch</th>\n",
       "      <th>Ticket</th>\n",
       "      <th>Fare</th>\n",
       "      <th>Cabin</th>\n",
       "      <th>Embarked</th>\n",
       "    </tr>\n",
       "  </thead>\n",
       "  <tbody>\n",
       "    <tr>\n",
       "      <th>0</th>\n",
       "      <td>1</td>\n",
       "      <td>0</td>\n",
       "      <td>3</td>\n",
       "      <td>Braund, Mr. Owen Harris</td>\n",
       "      <td>male</td>\n",
       "      <td>22.0</td>\n",
       "      <td>1</td>\n",
       "      <td>0</td>\n",
       "      <td>A/5 21171</td>\n",
       "      <td>7.2500</td>\n",
       "      <td>NaN</td>\n",
       "      <td>S</td>\n",
       "    </tr>\n",
       "    <tr>\n",
       "      <th>1</th>\n",
       "      <td>2</td>\n",
       "      <td>1</td>\n",
       "      <td>1</td>\n",
       "      <td>Cumings, Mrs. John Bradley (Florence Briggs Th...</td>\n",
       "      <td>female</td>\n",
       "      <td>38.0</td>\n",
       "      <td>1</td>\n",
       "      <td>0</td>\n",
       "      <td>PC 17599</td>\n",
       "      <td>71.2833</td>\n",
       "      <td>C85</td>\n",
       "      <td>C</td>\n",
       "    </tr>\n",
       "    <tr>\n",
       "      <th>2</th>\n",
       "      <td>3</td>\n",
       "      <td>1</td>\n",
       "      <td>3</td>\n",
       "      <td>Heikkinen, Miss. Laina</td>\n",
       "      <td>female</td>\n",
       "      <td>26.0</td>\n",
       "      <td>0</td>\n",
       "      <td>0</td>\n",
       "      <td>STON/O2. 3101282</td>\n",
       "      <td>7.9250</td>\n",
       "      <td>NaN</td>\n",
       "      <td>S</td>\n",
       "    </tr>\n",
       "    <tr>\n",
       "      <th>3</th>\n",
       "      <td>4</td>\n",
       "      <td>1</td>\n",
       "      <td>1</td>\n",
       "      <td>Futrelle, Mrs. Jacques Heath (Lily May Peel)</td>\n",
       "      <td>female</td>\n",
       "      <td>35.0</td>\n",
       "      <td>1</td>\n",
       "      <td>0</td>\n",
       "      <td>113803</td>\n",
       "      <td>53.1000</td>\n",
       "      <td>C123</td>\n",
       "      <td>S</td>\n",
       "    </tr>\n",
       "    <tr>\n",
       "      <th>4</th>\n",
       "      <td>5</td>\n",
       "      <td>0</td>\n",
       "      <td>3</td>\n",
       "      <td>Allen, Mr. William Henry</td>\n",
       "      <td>male</td>\n",
       "      <td>35.0</td>\n",
       "      <td>0</td>\n",
       "      <td>0</td>\n",
       "      <td>373450</td>\n",
       "      <td>8.0500</td>\n",
       "      <td>NaN</td>\n",
       "      <td>S</td>\n",
       "    </tr>\n",
       "  </tbody>\n",
       "</table>\n",
       "</div>"
      ],
      "text/plain": [
       "   PassengerId  Survived  Pclass  \\\n",
       "0            1         0       3   \n",
       "1            2         1       1   \n",
       "2            3         1       3   \n",
       "3            4         1       1   \n",
       "4            5         0       3   \n",
       "\n",
       "                                                Name     Sex   Age  SibSp  \\\n",
       "0                            Braund, Mr. Owen Harris    male  22.0      1   \n",
       "1  Cumings, Mrs. John Bradley (Florence Briggs Th...  female  38.0      1   \n",
       "2                             Heikkinen, Miss. Laina  female  26.0      0   \n",
       "3       Futrelle, Mrs. Jacques Heath (Lily May Peel)  female  35.0      1   \n",
       "4                           Allen, Mr. William Henry    male  35.0      0   \n",
       "\n",
       "   Parch            Ticket     Fare Cabin Embarked  \n",
       "0      0         A/5 21171   7.2500   NaN        S  \n",
       "1      0          PC 17599  71.2833   C85        C  \n",
       "2      0  STON/O2. 3101282   7.9250   NaN        S  \n",
       "3      0            113803  53.1000  C123        S  \n",
       "4      0            373450   8.0500   NaN        S  "
      ]
     },
     "execution_count": 4,
     "metadata": {},
     "output_type": "execute_result"
    }
   ],
   "source": [
    "df.head()"
   ]
  },
  {
   "cell_type": "code",
   "execution_count": 5,
   "id": "67cc43b7-970a-41de-a074-8b5f2636c35e",
   "metadata": {},
   "outputs": [
    {
     "name": "stdout",
     "output_type": "stream",
     "text": [
      "<class 'pandas.core.frame.DataFrame'>\n",
      "RangeIndex: 891 entries, 0 to 890\n",
      "Data columns (total 13 columns):\n",
      " #   Column       Non-Null Count  Dtype  \n",
      "---  ------       --------------  -----  \n",
      " 0   PassengerId  891 non-null    int64  \n",
      " 1   Survived     891 non-null    int64  \n",
      " 2   Pclass       891 non-null    int64  \n",
      " 3   Name         891 non-null    object \n",
      " 4   Sex          891 non-null    object \n",
      " 5   Age          714 non-null    float64\n",
      " 6   SibSp        891 non-null    int64  \n",
      " 7   Parch        891 non-null    int64  \n",
      " 8   Ticket       891 non-null    object \n",
      " 9   Fare         891 non-null    float64\n",
      " 10  Cabin        204 non-null    object \n",
      " 11  Embarked     889 non-null    object \n",
      " 12  gender       891 non-null    int64  \n",
      "dtypes: float64(2), int64(6), object(5)\n",
      "memory usage: 90.6+ KB\n"
     ]
    }
   ],
   "source": [
    "df['gender']= df['Sex'].map({'male':1, 'female':0})\n",
    "df.info()"
   ]
  },
  {
   "cell_type": "code",
   "execution_count": 6,
   "id": "b72b6a20-140c-44ef-b44e-830bb8c62455",
   "metadata": {},
   "outputs": [],
   "source": [
    "feats= ['Pclass', 'gender', 'Age', 'Fare', 'Survived']\n",
    "\n",
    "df_train= df[feats]"
   ]
  },
  {
   "cell_type": "code",
   "execution_count": 7,
   "id": "51193283-59d8-4cad-9a85-1c8f0a959fb3",
   "metadata": {},
   "outputs": [
    {
     "data": {
      "text/html": [
       "<div>\n",
       "<style scoped>\n",
       "    .dataframe tbody tr th:only-of-type {\n",
       "        vertical-align: middle;\n",
       "    }\n",
       "\n",
       "    .dataframe tbody tr th {\n",
       "        vertical-align: top;\n",
       "    }\n",
       "\n",
       "    .dataframe thead th {\n",
       "        text-align: right;\n",
       "    }\n",
       "</style>\n",
       "<table border=\"1\" class=\"dataframe\">\n",
       "  <thead>\n",
       "    <tr style=\"text-align: right;\">\n",
       "      <th></th>\n",
       "      <th>Pclass</th>\n",
       "      <th>gender</th>\n",
       "      <th>Age</th>\n",
       "      <th>Fare</th>\n",
       "      <th>Survived</th>\n",
       "    </tr>\n",
       "  </thead>\n",
       "  <tbody>\n",
       "    <tr>\n",
       "      <th>0</th>\n",
       "      <td>3</td>\n",
       "      <td>1</td>\n",
       "      <td>22.0</td>\n",
       "      <td>7.2500</td>\n",
       "      <td>0</td>\n",
       "    </tr>\n",
       "    <tr>\n",
       "      <th>1</th>\n",
       "      <td>1</td>\n",
       "      <td>0</td>\n",
       "      <td>38.0</td>\n",
       "      <td>71.2833</td>\n",
       "      <td>1</td>\n",
       "    </tr>\n",
       "    <tr>\n",
       "      <th>2</th>\n",
       "      <td>3</td>\n",
       "      <td>0</td>\n",
       "      <td>26.0</td>\n",
       "      <td>7.9250</td>\n",
       "      <td>1</td>\n",
       "    </tr>\n",
       "    <tr>\n",
       "      <th>3</th>\n",
       "      <td>1</td>\n",
       "      <td>0</td>\n",
       "      <td>35.0</td>\n",
       "      <td>53.1000</td>\n",
       "      <td>1</td>\n",
       "    </tr>\n",
       "    <tr>\n",
       "      <th>4</th>\n",
       "      <td>3</td>\n",
       "      <td>1</td>\n",
       "      <td>35.0</td>\n",
       "      <td>8.0500</td>\n",
       "      <td>0</td>\n",
       "    </tr>\n",
       "    <tr>\n",
       "      <th>...</th>\n",
       "      <td>...</td>\n",
       "      <td>...</td>\n",
       "      <td>...</td>\n",
       "      <td>...</td>\n",
       "      <td>...</td>\n",
       "    </tr>\n",
       "    <tr>\n",
       "      <th>886</th>\n",
       "      <td>2</td>\n",
       "      <td>1</td>\n",
       "      <td>27.0</td>\n",
       "      <td>13.0000</td>\n",
       "      <td>0</td>\n",
       "    </tr>\n",
       "    <tr>\n",
       "      <th>887</th>\n",
       "      <td>1</td>\n",
       "      <td>0</td>\n",
       "      <td>19.0</td>\n",
       "      <td>30.0000</td>\n",
       "      <td>1</td>\n",
       "    </tr>\n",
       "    <tr>\n",
       "      <th>888</th>\n",
       "      <td>3</td>\n",
       "      <td>0</td>\n",
       "      <td>NaN</td>\n",
       "      <td>23.4500</td>\n",
       "      <td>0</td>\n",
       "    </tr>\n",
       "    <tr>\n",
       "      <th>889</th>\n",
       "      <td>1</td>\n",
       "      <td>1</td>\n",
       "      <td>26.0</td>\n",
       "      <td>30.0000</td>\n",
       "      <td>1</td>\n",
       "    </tr>\n",
       "    <tr>\n",
       "      <th>890</th>\n",
       "      <td>3</td>\n",
       "      <td>1</td>\n",
       "      <td>32.0</td>\n",
       "      <td>7.7500</td>\n",
       "      <td>0</td>\n",
       "    </tr>\n",
       "  </tbody>\n",
       "</table>\n",
       "<p>891 rows × 5 columns</p>\n",
       "</div>"
      ],
      "text/plain": [
       "     Pclass  gender   Age     Fare  Survived\n",
       "0         3       1  22.0   7.2500         0\n",
       "1         1       0  38.0  71.2833         1\n",
       "2         3       0  26.0   7.9250         1\n",
       "3         1       0  35.0  53.1000         1\n",
       "4         3       1  35.0   8.0500         0\n",
       "..      ...     ...   ...      ...       ...\n",
       "886       2       1  27.0  13.0000         0\n",
       "887       1       0  19.0  30.0000         1\n",
       "888       3       0   NaN  23.4500         0\n",
       "889       1       1  26.0  30.0000         1\n",
       "890       3       1  32.0   7.7500         0\n",
       "\n",
       "[891 rows x 5 columns]"
      ]
     },
     "execution_count": 7,
     "metadata": {},
     "output_type": "execute_result"
    }
   ],
   "source": [
    "df_train"
   ]
  },
  {
   "cell_type": "code",
   "execution_count": 8,
   "id": "8417f690-0a42-4fe9-88ea-07ec5b955c08",
   "metadata": {},
   "outputs": [
    {
     "name": "stdout",
     "output_type": "stream",
     "text": [
      "0\n"
     ]
    }
   ],
   "source": [
    "df_train=df_train.dropna()\n",
    "print(df_train.isna().sum().sum())"
   ]
  },
  {
   "cell_type": "code",
   "execution_count": 9,
   "id": "889a1aa4-0450-4367-bebf-b460930c95fd",
   "metadata": {},
   "outputs": [
    {
     "name": "stdout",
     "output_type": "stream",
     "text": [
      "<class 'pandas.core.frame.DataFrame'>\n",
      "Index: 714 entries, 0 to 890\n",
      "Data columns (total 5 columns):\n",
      " #   Column    Non-Null Count  Dtype  \n",
      "---  ------    --------------  -----  \n",
      " 0   Pclass    714 non-null    int64  \n",
      " 1   gender    714 non-null    int64  \n",
      " 2   Age       714 non-null    float64\n",
      " 3   Fare      714 non-null    float64\n",
      " 4   Survived  714 non-null    int64  \n",
      "dtypes: float64(2), int64(3)\n",
      "memory usage: 33.5 KB\n"
     ]
    }
   ],
   "source": [
    "df_train.info()"
   ]
  },
  {
   "cell_type": "code",
   "execution_count": 10,
   "id": "2f47e5b3-1589-4c5d-8ba6-0378b82df55e",
   "metadata": {},
   "outputs": [
    {
     "data": {
      "text/html": [
       "<div>\n",
       "<style scoped>\n",
       "    .dataframe tbody tr th:only-of-type {\n",
       "        vertical-align: middle;\n",
       "    }\n",
       "\n",
       "    .dataframe tbody tr th {\n",
       "        vertical-align: top;\n",
       "    }\n",
       "\n",
       "    .dataframe thead th {\n",
       "        text-align: right;\n",
       "    }\n",
       "</style>\n",
       "<table border=\"1\" class=\"dataframe\">\n",
       "  <thead>\n",
       "    <tr style=\"text-align: right;\">\n",
       "      <th></th>\n",
       "      <th>Pclass</th>\n",
       "      <th>gender</th>\n",
       "      <th>Age</th>\n",
       "      <th>Fare</th>\n",
       "      <th>Survived</th>\n",
       "    </tr>\n",
       "  </thead>\n",
       "  <tbody>\n",
       "    <tr>\n",
       "      <th>0</th>\n",
       "      <td>3</td>\n",
       "      <td>1</td>\n",
       "      <td>22.0</td>\n",
       "      <td>7.2500</td>\n",
       "      <td>0</td>\n",
       "    </tr>\n",
       "    <tr>\n",
       "      <th>1</th>\n",
       "      <td>1</td>\n",
       "      <td>0</td>\n",
       "      <td>38.0</td>\n",
       "      <td>71.2833</td>\n",
       "      <td>1</td>\n",
       "    </tr>\n",
       "    <tr>\n",
       "      <th>2</th>\n",
       "      <td>3</td>\n",
       "      <td>0</td>\n",
       "      <td>26.0</td>\n",
       "      <td>7.9250</td>\n",
       "      <td>1</td>\n",
       "    </tr>\n",
       "    <tr>\n",
       "      <th>3</th>\n",
       "      <td>1</td>\n",
       "      <td>0</td>\n",
       "      <td>35.0</td>\n",
       "      <td>53.1000</td>\n",
       "      <td>1</td>\n",
       "    </tr>\n",
       "    <tr>\n",
       "      <th>4</th>\n",
       "      <td>3</td>\n",
       "      <td>1</td>\n",
       "      <td>35.0</td>\n",
       "      <td>8.0500</td>\n",
       "      <td>0</td>\n",
       "    </tr>\n",
       "  </tbody>\n",
       "</table>\n",
       "</div>"
      ],
      "text/plain": [
       "   Pclass  gender   Age     Fare  Survived\n",
       "0       3       1  22.0   7.2500         0\n",
       "1       1       0  38.0  71.2833         1\n",
       "2       3       0  26.0   7.9250         1\n",
       "3       1       0  35.0  53.1000         1\n",
       "4       3       1  35.0   8.0500         0"
      ]
     },
     "execution_count": 10,
     "metadata": {},
     "output_type": "execute_result"
    }
   ],
   "source": [
    "df_train.head()"
   ]
  },
  {
   "cell_type": "code",
   "execution_count": 11,
   "id": "fa536bf9-5739-47ee-ac3a-63bee4631af5",
   "metadata": {},
   "outputs": [],
   "source": [
    "target= df_train[['Survived']]"
   ]
  },
  {
   "cell_type": "code",
   "execution_count": 12,
   "id": "0c78a75b-347e-494e-82bb-67966a28371b",
   "metadata": {},
   "outputs": [],
   "source": [
    "df_train= df_train.drop(columns= ['Survived'])"
   ]
  },
  {
   "cell_type": "code",
   "execution_count": 13,
   "id": "36008b73-8c94-4bf4-9d99-67e805e9a274",
   "metadata": {},
   "outputs": [
    {
     "name": "stdout",
     "output_type": "stream",
     "text": [
      "<class 'pandas.core.frame.DataFrame'>\n",
      "Index: 714 entries, 0 to 890\n",
      "Data columns (total 4 columns):\n",
      " #   Column  Non-Null Count  Dtype  \n",
      "---  ------  --------------  -----  \n",
      " 0   Pclass  714 non-null    int64  \n",
      " 1   gender  714 non-null    int64  \n",
      " 2   Age     714 non-null    float64\n",
      " 3   Fare    714 non-null    float64\n",
      "dtypes: float64(2), int64(2)\n",
      "memory usage: 27.9 KB\n"
     ]
    }
   ],
   "source": [
    "df_train.info()"
   ]
  },
  {
   "cell_type": "code",
   "execution_count": 14,
   "id": "c7eb33dd-6d64-44ae-8bad-5548c3bbc5cd",
   "metadata": {},
   "outputs": [],
   "source": [
    "df_train=pd.get_dummies(df_train, columns=['Pclass'], dtype=int)"
   ]
  },
  {
   "cell_type": "code",
   "execution_count": 15,
   "id": "7d215566-6e0a-4c1c-93f8-b7104f4a1ff6",
   "metadata": {},
   "outputs": [
    {
     "name": "stdout",
     "output_type": "stream",
     "text": [
      "<class 'pandas.core.frame.DataFrame'>\n",
      "Index: 714 entries, 0 to 890\n",
      "Data columns (total 6 columns):\n",
      " #   Column    Non-Null Count  Dtype  \n",
      "---  ------    --------------  -----  \n",
      " 0   gender    714 non-null    int64  \n",
      " 1   Age       714 non-null    float64\n",
      " 2   Fare      714 non-null    float64\n",
      " 3   Pclass_1  714 non-null    int64  \n",
      " 4   Pclass_2  714 non-null    int64  \n",
      " 5   Pclass_3  714 non-null    int64  \n",
      "dtypes: float64(2), int64(4)\n",
      "memory usage: 39.0 KB\n"
     ]
    }
   ],
   "source": [
    "df_train.info()"
   ]
  },
  {
   "cell_type": "code",
   "execution_count": 16,
   "id": "030299d8-f9a7-466d-9446-6c1af4713469",
   "metadata": {},
   "outputs": [
    {
     "data": {
      "text/html": [
       "<div>\n",
       "<style scoped>\n",
       "    .dataframe tbody tr th:only-of-type {\n",
       "        vertical-align: middle;\n",
       "    }\n",
       "\n",
       "    .dataframe tbody tr th {\n",
       "        vertical-align: top;\n",
       "    }\n",
       "\n",
       "    .dataframe thead th {\n",
       "        text-align: right;\n",
       "    }\n",
       "</style>\n",
       "<table border=\"1\" class=\"dataframe\">\n",
       "  <thead>\n",
       "    <tr style=\"text-align: right;\">\n",
       "      <th></th>\n",
       "      <th>Survived</th>\n",
       "    </tr>\n",
       "  </thead>\n",
       "  <tbody>\n",
       "    <tr>\n",
       "      <th>0</th>\n",
       "      <td>0</td>\n",
       "    </tr>\n",
       "    <tr>\n",
       "      <th>1</th>\n",
       "      <td>1</td>\n",
       "    </tr>\n",
       "    <tr>\n",
       "      <th>2</th>\n",
       "      <td>1</td>\n",
       "    </tr>\n",
       "    <tr>\n",
       "      <th>3</th>\n",
       "      <td>1</td>\n",
       "    </tr>\n",
       "    <tr>\n",
       "      <th>4</th>\n",
       "      <td>0</td>\n",
       "    </tr>\n",
       "  </tbody>\n",
       "</table>\n",
       "</div>"
      ],
      "text/plain": [
       "   Survived\n",
       "0         0\n",
       "1         1\n",
       "2         1\n",
       "3         1\n",
       "4         0"
      ]
     },
     "execution_count": 16,
     "metadata": {},
     "output_type": "execute_result"
    }
   ],
   "source": [
    "target.head()"
   ]
  },
  {
   "cell_type": "code",
   "execution_count": 17,
   "id": "19d8cea5-2087-44c9-8664-27d55e4e8f5e",
   "metadata": {},
   "outputs": [],
   "source": [
    "from sklearn.model_selection import train_test_split\n",
    "\n",
    "x_train,x_test,y_train,y_test= train_test_split(df_train, target, test_size=0.2, random_state=0 )"
   ]
  },
  {
   "cell_type": "code",
   "execution_count": 18,
   "id": "b30829ed-2522-483e-bece-c2dad1446ea6",
   "metadata": {},
   "outputs": [
    {
     "data": {
      "text/plain": [
       "((571, 6), (571, 1))"
      ]
     },
     "execution_count": 18,
     "metadata": {},
     "output_type": "execute_result"
    }
   ],
   "source": [
    "x_train.shape, y_train.shape"
   ]
  },
  {
   "cell_type": "code",
   "execution_count": 19,
   "id": "be6d2e97-b820-4ca1-9db6-2d6e4285a133",
   "metadata": {},
   "outputs": [
    {
     "data": {
      "text/plain": [
       "((143, 6), (143, 1))"
      ]
     },
     "execution_count": 19,
     "metadata": {},
     "output_type": "execute_result"
    }
   ],
   "source": [
    "x_test.shape, y_test.shape"
   ]
  },
  {
   "cell_type": "code",
   "execution_count": 20,
   "id": "3cd914ae-4566-48a1-b493-fb07c981e3af",
   "metadata": {},
   "outputs": [],
   "source": [
    "Xtrain_= torch.from_numpy(x_train.values).float()\n",
    "Xtest_= torch.from_numpy(x_test.values).float()\n",
    "\n",
    "\n",
    "#Loss function is NLLLoss(). reshaping Y to match the format that our loss function requires\n",
    "Ytrain_= torch.from_numpy(y_train.values).view(1,-1)[0]\n",
    "Ytest_= torch.from_numpy(y_test.values).view(1,-1)[0]"
   ]
  },
  {
   "cell_type": "code",
   "execution_count": 21,
   "id": "1f2177b4-d096-4927-acb8-5889524082a4",
   "metadata": {},
   "outputs": [
    {
     "data": {
      "text/plain": [
       "(torch.Size([571, 6]),\n",
       " torch.Size([571]),\n",
       " torch.Size([143, 6]),\n",
       " torch.Size([143]))"
      ]
     },
     "execution_count": 21,
     "metadata": {},
     "output_type": "execute_result"
    }
   ],
   "source": [
    "Xtrain_.shape, Ytrain_.shape, Xtest_.shape, Ytest_.shape"
   ]
  },
  {
   "cell_type": "code",
   "execution_count": 22,
   "id": "c46d00e0-6bd2-4dcc-93a6-bdb9fb6d7ae3",
   "metadata": {},
   "outputs": [],
   "source": [
    "import torch\n",
    "import torch.nn as nn\n",
    "import torch.nn.functional as F"
   ]
  },
  {
   "cell_type": "code",
   "execution_count": 23,
   "id": "0694296f-c86f-441a-9943-61c8dd2f8586",
   "metadata": {},
   "outputs": [],
   "source": [
    "inp = 6\n",
    "out = 2\n",
    "hid = 10 #10 neurons-- hyerparameter"
   ]
  },
  {
   "cell_type": "code",
   "execution_count": 24,
   "id": "025f0f76-6106-47b7-9820-597e7e1bcbe2",
   "metadata": {},
   "outputs": [],
   "source": [
    "class Net(nn.Module): #calling parent class nn.module\n",
    "\n",
    "    def __init__(self): #constructor of Net class\n",
    "        super(Net,self).__init__()\n",
    "        #instantiating 3 fullu connected layers\n",
    "        self.fc1= nn.Linear(inp, hid)\n",
    "        self.fc2=nn.Linear(hid, hid)\n",
    "        self.fc3=nn.Linear(hid,out)\n",
    "        \n",
    "#forward pass implementation\n",
    "    \n",
    "    def forward(self, x): #overrriding forward fucntion in base nn.module class\n",
    "        \n",
    "        x= F.sigmoid(self.fc1(x))\n",
    "        x= F.sigmoid(self.fc2(x))\n",
    "        x= self.fc3(x)\n",
    "\n",
    "        return F.log_softmax(x,dim=-1) # output of 3rd layer passed to log softmax function.\n",
    "        "
   ]
  },
  {
   "cell_type": "code",
   "execution_count": 25,
   "id": "f68cfe40-c2a7-4049-a01e-983d15dc7b11",
   "metadata": {},
   "outputs": [],
   "source": [
    "model= Net() #instantiating model of this network by calling net class"
   ]
  },
  {
   "cell_type": "code",
   "execution_count": 26,
   "id": "4b31ef45-7c91-4bd1-b4d6-5f773e6e3651",
   "metadata": {},
   "outputs": [],
   "source": [
    "#we dont manually update weights during backpropagation, instead we use \n",
    "#Adam optimizer-- Adaptive Learning Rate optimizer which works very well in NN, after every epoch it updates weights\n",
    "\n",
    "import torch.optim as optim\n",
    "optimizer=optim.Adam(model.parameters())\n",
    "\n",
    "#Setting up loss function\n",
    "\n",
    "loss_fn= nn.NLLLoss()"
   ]
  },
  {
   "cell_type": "code",
   "execution_count": 27,
   "id": "46e63da4-f524-4157-ab0b-c289c49c1468",
   "metadata": {},
   "outputs": [],
   "source": [
    "#Now we are ready to start training\n",
    "\n",
    "epoch_data=[]\n",
    "epochs=1001\n",
    "\n"
   ]
  },
  {
   "cell_type": "code",
   "execution_count": 28,
   "id": "4247355e-f0fa-4cf6-839a-7479b5bdf44e",
   "metadata": {},
   "outputs": [
    {
     "name": "stdout",
     "output_type": "stream",
     "text": [
      "epoch- 100 (6%) train loss- 0.64 test_loss- 0.66 accuracy - 0.5524\n",
      "epoch- 200 (13%) train loss- 0.61 test_loss- 0.61 accuracy - 0.6783\n",
      "epoch- 300 (20%) train loss- 0.58 test_loss- 0.58 accuracy - 0.6853\n",
      "epoch- 400 (26%) train loss- 0.54 test_loss- 0.53 accuracy - 0.7343\n",
      "epoch- 500 (33%) train loss- 0.47 test_loss- 0.45 accuracy - 0.8322\n",
      "epoch- 600 (40%) train loss- 0.43 test_loss- 0.41 accuracy - 0.7972\n",
      "epoch- 700 (46%) train loss- 0.42 test_loss- 0.41 accuracy - 0.8182\n",
      "epoch- 800 (53%) train loss- 0.41 test_loss- 0.41 accuracy - 0.8112\n",
      "epoch- 900 (60%) train loss- 0.40 test_loss- 0.42 accuracy - 0.8112\n",
      "epoch- 1000 (66%) train loss- 0.39 test_loss- 0.43 accuracy - 0.8112\n"
     ]
    }
   ],
   "source": [
    "for epoch in range(1,epochs):\n",
    "    \n",
    "    optimizer.zero_grad() # for every epoch we zero out gradients so it calculates fresh gradients in the next epoch\n",
    "    \n",
    "    y_pred= model(Xtrain_)\n",
    "\n",
    "#performing backward pass\n",
    "\n",
    "    loss=loss_fn(y_pred,Ytrain_)\n",
    "    loss.backward() # to calculate gradients\n",
    "\n",
    "#once gradients are calculated we update model parameters\n",
    "    optimizer.step()\n",
    "\n",
    "#for every epoch we check how out model performs on test data, \n",
    "#we dont call backward() on test data as weights are not updated based on test data\n",
    "\n",
    "    ypred_test= model(Xtest_)\n",
    "    loss_test= loss_fn(ypred_test, Ytest_)\n",
    "\n",
    "# when we perform classification predicted output is in the form of probabilities.\n",
    "#actual predicted labels is the one with highest probability\n",
    "\n",
    "    _,pred= ypred_test.data.max(1)\n",
    "\n",
    "    accuracy= pred.eq(Ytest_.data).sum().item()/y_test.values.size\n",
    "    epoch_data.append([epoch, loss.data.item(), loss_test.data.item(), accuracy])\n",
    "\n",
    "\n",
    "# for every 100 epochs we print out accuracy and loss\n",
    "    if epoch%100==0:\n",
    "        print('epoch- %d (%d%%) train loss- %.2f test_loss- %.2f accuracy - %.4f' \\\n",
    "             %(epoch, epoch/150*10, loss.data.item(), loss_test.data.item(), accuracy))"
   ]
  },
  {
   "cell_type": "code",
   "execution_count": 57,
   "id": "ea2f8a9d-6aaa-448f-81cd-fd60e54eff04",
   "metadata": {},
   "outputs": [],
   "source": [
    "#plotting Accuracy and Loss Metrics\n",
    "\n",
    "df_epochs_data= pd.DataFrame(epoch_data, columns=['epoch', 'train_loss', 'test_loss', 'accuracy'])\n",
    "                                                "
   ]
  },
  {
   "cell_type": "code",
   "execution_count": 59,
   "id": "c0820e8a-4171-477e-862a-339ffd6a944c",
   "metadata": {},
   "outputs": [],
   "source": [
    "import matplotlib.pyplot as plt"
   ]
  },
  {
   "cell_type": "code",
   "execution_count": 75,
   "id": "d30f0aeb-29e2-4c4b-a4b5-19b674b4c214",
   "metadata": {},
   "outputs": [
    {
     "data": {
      "image/png": "[encoded data removed]",
      "text/plain": [
       "<Figure size 1200x400 with 2 Axes>"
      ]
     },
     "metadata": {},
     "output_type": "display_data"
    }
   ],
   "source": [
    "f, (ax1,ax2)= plt.subplots(1, 2, figsize=(12,4))\n",
    "\n",
    "df_epochs_data[['train_loss', 'test_loss']].plot(ax=ax1)\n",
    "ax1.set_title (\"training loss and testing loss for every epoch\")\n",
    "\n",
    "df_epochs_data[['accuracy']].plot(ax=ax2) \n",
    "ax2.set_title(\"accuracy for every epoch of training\")\n",
    "\n",
    "plt.ylim(ymin=0.5)\n",
    "\n",
    "plt.show()"
   ]
  },
  {
   "cell_type": "code",
   "execution_count": null,
   "id": "6cd874e1-c30f-4c60-a7bb-0c6dcf081277",
   "metadata": {},
   "outputs": [],
   "source": []
  }
 ],
 "metadata": {
  "kernelspec": {
   "display_name": "Python 3 (ipykernel)",
   "language": "python",
   "name": "python3"
  },
  "language_info": {
   "codemirror_mode": {
    "name": "ipython",
    "version": 3
   },
   "file_extension": ".py",
   "mimetype": "text/x-python",
   "name": "python",
   "nbconvert_exporter": "python",
   "pygments_lexer": "ipython3",
   "version": "3.11.7"
  }
 },
 "nbformat": 4,
 "nbformat_minor": 5
}
